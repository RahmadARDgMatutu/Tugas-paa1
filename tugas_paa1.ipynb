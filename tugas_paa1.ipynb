{
  "nbformat": 4,
  "nbformat_minor": 0,
  "metadata": {
    "colab": {
      "provenance": [],
      "authorship_tag": "ABX9TyOTfiaXrw24YZzie0GMBfbE"
    },
    "kernelspec": {
      "name": "python3",
      "display_name": "Python 3"
    },
    "language_info": {
      "name": "python"
    }
  },
  "cells": [
    {
      "cell_type": "code",
      "execution_count": 1,
      "metadata": {
        "colab": {
          "base_uri": "https://localhost:8080/"
        },
        "id": "z8z-eA1d7Bqk",
        "outputId": "c42c02b3-82c5-4a65-e4ec-e858ecb6fa71"
      },
      "outputs": [
        {
          "output_type": "stream",
          "name": "stdout",
          "text": [
            "Hasil Bubble Sort:\n",
            "11\n",
            "12\n",
            "22\n",
            "25\n",
            "34\n",
            "64\n",
            "90\n"
          ]
        }
      ],
      "source": [
        "def bubble_sort(arr):\n",
        "    n = len(arr)\n",
        "    for i in range(n-1):\n",
        "        for j in range(0, n-i-1):\n",
        "            if arr[j] > arr[j+1]:\n",
        "                arr[j], arr[j+1] = arr[j+1], arr[j]\n",
        "\n",
        "# Contoh penggunaan:\n",
        "arr = [64, 34, 25, 12, 22, 11, 90]\n",
        "bubble_sort(arr)\n",
        "print(\"Hasil Bubble Sort:\")\n",
        "for i in range(len(arr)):\n",
        "    print(arr[i])"
      ]
    },
    {
      "cell_type": "markdown",
      "source": [
        "Bubble sort"
      ],
      "metadata": {
        "id": "1bk4Kpif7qn1"
      }
    },
    {
      "cell_type": "code",
      "source": [
        "import sys\n",
        "\n",
        "def tsp(graph, start):\n",
        "    num_vertices = len(graph)\n",
        "    vertex_set = set(range(num_vertices))\n",
        "    memo = {}\n",
        "    end_state = (1 << num_vertices) - 1\n",
        "\n",
        "    def tsp_helper(curr_vertex, state):\n",
        "        if state == end_state:\n",
        "            return graph[curr_vertex][start]\n",
        "\n",
        "        memo_key = (curr_vertex, state)\n",
        "        if memo_key in memo:\n",
        "            return memo[memo_key]\n",
        "\n",
        "        min_cost = sys.maxsize\n",
        "        for next_vertex in vertex_set - set([start, curr_vertex]):\n",
        "            cost = graph[curr_vertex][next_vertex] + tsp_helper(next_vertex, state | (1 << next_vertex))\n",
        "            min_cost = min(min_cost, cost)\n",
        "\n",
        "        memo[memo_key] = min_cost\n",
        "        return min_cost\n",
        "\n",
        "    return tsp_helper(start, 1 << start)\n",
        "\n",
        "# Contoh penggunaan:\n",
        "graph = [\n",
        "    [0, 10, 15, 20],\n",
        "    [10, 0, 35, 25],\n",
        "    [15, 35, 0, 30],\n",
        "    [20, 25, 30, 0]\n",
        "]\n",
        "start_vertex = 0\n",
        "min_cost = tsp(graph, start_vertex)\n",
        "print(f\"Minimum cost untuk TSP: {min_cost}\")"
      ],
      "metadata": {
        "id": "ZI2-1Wsh7wta"
      },
      "execution_count": null,
      "outputs": []
    },
    {
      "cell_type": "markdown",
      "source": [
        "TSP"
      ],
      "metadata": {
        "id": "R_NjITbq71WK"
      }
    }
  ]
}